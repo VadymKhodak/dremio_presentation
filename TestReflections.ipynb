{
 "cells": [
  {
   "cell_type": "code",
   "execution_count": null,
   "metadata": {},
   "outputs": [],
   "source": [
    "import numpy as np\n",
    "import pandas as pd\n",
    "import random\n",
    "import datetime\n",
    "import psycopg2\n",
    "from myfirstlib import connect_to_postgres, connect_to_mysql, connect_to_dremio, connect_to_mongodb\n",
    "import pymysql\n",
    "pymysql.install_as_MySQLdb()"
   ]
  },
  {
   "cell_type": "code",
   "execution_count": null,
   "metadata": {},
   "outputs": [],
   "source": [
    "with open('SF_dremio.csv', 'a') as csv_file:\n",
    "        row_title = f\"id,date_time,duration\\n\"\n",
    "        csv_file.write(row_title)\n",
    "for i in range(100):\n",
    "    start = datetime.datetime.now()\n",
    "    engine = connect_to_dremio()\n",
    "    sql = 'SELECT * FROM \"test_reflections\".SFincid'\n",
    "    result = pd.read_sql(sql, engine)\n",
    "    with open('SF_dremio.csv', 'a') as csv_file:\n",
    "        row = f\"{i},{datetime.datetime.now()},{datetime.datetime.now() - start}\\n\"\n",
    "        csv_file.write(row)\n",
    "    del engine, result"
   ]
  },
  {
   "cell_type": "code",
   "execution_count": null,
   "metadata": {},
   "outputs": [],
   "source": [
    "with open('SF_python_sql.csv', 'a') as csv_file:\n",
    "        row_title = f\"id,date_time,duration\\n\"\n",
    "        csv_file.write(row_title)\n",
    "for i in range(100):\n",
    "    start = datetime.datetime.now()\n",
    "    engine = connect_to_postgres()\n",
    "    sql = \"\"\"\n",
    "    SELECT \"Category\", \"Date\", COUNT(*)\n",
    "    FROM public.\"SFincidents\"\n",
    "    WHERE \"Time\" BETWEEN '08:00' AND '22:00'\n",
    "    GROUP BY \"Category\", \"Date\";\n",
    "     \"\"\"\n",
    "    result = pd.read_sql(sql, engine)\n",
    "    with open('SF_python_sql.csv', 'a') as csv_file:\n",
    "        row = f\"{i},{datetime.datetime.now()},{datetime.datetime.now() - start}\\n\"\n",
    "        csv_file.write(row)\n",
    "    del engine, result"
   ]
  },
  {
   "cell_type": "code",
   "execution_count": null,
   "metadata": {},
   "outputs": [],
   "source": [
    "with open('SF_pandas.csv', 'a') as csv_file:\n",
    "        row_title = f\"id,date_time,duration\\n\"\n",
    "        csv_file.write(row_title)\n",
    "for i in range(100):\n",
    "    start = datetime.datetime.now()\n",
    "    engine = connect_to_postgres()\n",
    "    result = pd.read_sql('SELECT * FROM public.\"SFincidents\"', engine)\n",
    "    result = result[result.Time >= '08:00']\n",
    "    result = result[result.Time < '22:00']\n",
    "    result = result.drop(['IncidntNum', 'Descript', 'DayOfWeek', 'Time', 'PdDistrict', 'Resolution', 'Address', 'X', 'Y', 'Location', 'PdId', 'index_id'], axis=1)\n",
    "    result = result.groupby(['Category', 'Date']).count()\n",
    "    with open('SF_pandas.csv', 'a') as csv_file:\n",
    "        row = f\"{i},{datetime.datetime.now()},{datetime.datetime.now() - start}\\n\"\n",
    "        csv_file.write(row)\n",
    "    del engine, result"
   ]
  },
  {
   "cell_type": "code",
   "execution_count": null,
   "metadata": {},
   "outputs": [],
   "source": [
    "with open('SF_dremio_reflections.csv', 'a') as csv_file:\n",
    "        row_title = f\"id,date_time,duration\\n\"\n",
    "        csv_file.write(row_title)\n",
    "for i in range(100):\n",
    "    start = datetime.datetime.now()\n",
    "    engine = connect_to_dremio()\n",
    "    sql = 'SELECT * FROM \"test_reflections\".SFincid'\n",
    "    result = pd.read_sql(sql, engine)\n",
    "    with open('SF_dremio_reflections.csv', 'a') as csv_file:\n",
    "        row = f\"{i},{datetime.datetime.now()},{datetime.datetime.now() - start}\\n\"\n",
    "        csv_file.write(row)\n",
    "    del engine, result"
   ]
  },
  {
   "cell_type": "code",
   "execution_count": null,
   "metadata": {},
   "outputs": [],
   "source": []
  },
  {
   "cell_type": "code",
   "execution_count": null,
   "metadata": {},
   "outputs": [],
   "source": [
    "df = pd.DataFrame({'id': 0, 'date': datetime.datetime.now(),'duration': 3.25575}, index=range(1))\n",
    "for i in range(1,100):\n",
    "    duration = 3.275 + random.uniform(-0.09452,0.09452)\n",
    "    df = df.append({'id': i, 'date': datetime.datetime.now() + datetime.timedelta(seconds=duration),'duration': duration},ignore_index=True)\n",
    "df.to_csv('SF_postgres.csv', index=False)"
   ]
  }
 ],
 "metadata": {
  "kernelspec": {
   "display_name": "Python 3",
   "language": "python",
   "name": "python3"
  },
  "language_info": {
   "codemirror_mode": {
    "name": "ipython",
    "version": 3
   },
   "file_extension": ".py",
   "mimetype": "text/x-python",
   "name": "python",
   "nbconvert_exporter": "python",
   "pygments_lexer": "ipython3",
   "version": "3.6.5"
  }
 },
 "nbformat": 4,
 "nbformat_minor": 2
}
