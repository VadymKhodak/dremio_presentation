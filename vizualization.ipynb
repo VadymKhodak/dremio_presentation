{
 "cells": [
  {
   "cell_type": "code",
   "execution_count": null,
   "metadata": {},
   "outputs": [],
   "source": [
    "import plotly.offline as py\n",
    "import plotly.graph_objs as go\n",
    "import pandas as pd\n",
    "py.init_notebook_mode(connected=True)"
   ]
  },
  {
   "cell_type": "code",
   "execution_count": null,
   "metadata": {},
   "outputs": [],
   "source": [
    "SF_dremio = pd.read_csv('SF_dremio.csv')\n",
    "SF_dremio_reflections = pd.read_csv('SF_dremio_reflections.csv')\n",
    "SF_pandas = pd.read_csv('SF_pandas.csv')\n",
    "SF_postgres = pd.read_csv('SF_postgres.csv')\n",
    "SF_python_sql = pd.read_csv('SF_python_sql.csv')"
   ]
  },
  {
   "cell_type": "code",
   "execution_count": null,
   "metadata": {},
   "outputs": [],
   "source": [
    "SF_dremio_trace = go.Scatter(x=SF_dremio.index, y=SF_dremio['duration'], name = 'Dremio')\n",
    "SF_dremio_reflections_trace = go.Scatter(x=SF_dremio_reflections.index, y=SF_dremio_reflections['duration'], name = 'Dremio Reflections')\n",
    "SF_postgres_trace = go.Scatter(x=SF_postgres.index, y=SF_postgres['duration'], name = 'PostgreSQL pgAgent')\n",
    "SF_pandas_race = go.Scatter(x=SF_pandas.index, y=SF_pandas['duration'], name = 'Pandas')\n",
    "SF_python_sql_trace = go.Scatter(x=SF_python_sql.index, y=SF_python_sql['duration'], name = 'Python and SQL')\n",
    "\n",
    "\n",
    "\n",
    "py.iplot([SF_dremio_trace\n",
    "          , SF_postgres_trace\n",
    "          , SF_dremio_reflections_trace\n",
    "          , SF_pandas_race\n",
    "          , SF_python_sql_trace\n",
    "         ])"
   ]
  },
  {
   "cell_type": "code",
   "execution_count": null,
   "metadata": {},
   "outputs": [],
   "source": [
    "SF_dremio_trace = go.Scatter(x=SF_dremio.index, y=SF_dremio['duration'], name = 'Dremio')\n",
    "SF_dremio_reflections_trace = go.Scatter(x=SF_dremio_reflections.index, y=SF_dremio_reflections['duration'], name = 'Dremio Reflections')\n",
    "SF_postgres_trace = go.Scatter(x=SF_postgres.index, y=SF_postgres['duration'], name = 'PostgreSQL pgAgent')\n",
    "SF_pandas_race = go.Scatter(x=SF_pandas.index, y=SF_pandas['duration'], name = 'Pandas')\n",
    "SF_python_sql_trace = go.Scatter(x=SF_python_sql.index, y=SF_python_sql['duration'], name = 'Python and SQL')\n",
    "\n",
    "\n",
    "\n",
    "py.iplot([SF_dremio_trace\n",
    "          , SF_postgres_trace\n",
    "          , SF_dremio_reflections_trace\n",
    "          , SF_python_sql_trace\n",
    "         ])"
   ]
  },
  {
   "cell_type": "code",
   "execution_count": null,
   "metadata": {},
   "outputs": [],
   "source": []
  }
 ],
 "metadata": {
  "kernelspec": {
   "display_name": "Python 3",
   "language": "python",
   "name": "python3"
  },
  "language_info": {
   "codemirror_mode": {
    "name": "ipython",
    "version": 3
   },
   "file_extension": ".py",
   "mimetype": "text/x-python",
   "name": "python",
   "nbconvert_exporter": "python",
   "pygments_lexer": "ipython3",
   "version": "3.6.5"
  }
 },
 "nbformat": 4,
 "nbformat_minor": 2
}
