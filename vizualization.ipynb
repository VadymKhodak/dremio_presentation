{
 "cells": [
  {
   "cell_type": "code",
   "execution_count": null,
   "metadata": {},
   "outputs": [],
   "source": [
    "import plotly.offline as py\n",
    "import plotly.graph_objs as go\n",
    "import pandas as pd\n",
    "py.init_notebook_mode(connected=True)"
   ]
  },
  {
   "cell_type": "code",
   "execution_count": null,
   "metadata": {},
   "outputs": [],
   "source": [
    "SF_DREMIO = pd.read_csv(f'SF_dremio.csv')\n",
    "SF_REFLECTIONS = pd.read_csv('SF_dremio_reflections.csv')\n",
    "SF_PANDAS = pd.read_csv('SF_pandas.csv')\n",
    "SF_POSTGRES = pd.read_csv('SF_postgres.csv')\n",
    "SF_PYTHON_SQL = pd.read_csv('SF_python_sql.csv')"
   ]
  },
  {
   "cell_type": "code",
   "execution_count": null,
   "metadata": {},
   "outputs": [],
   "source": [
    "SF_DREMIO_TRACE = go.Scatter(x=SF_DREMIO.index, y=SF_DREMIO['duration'], name='Dremio')\n",
    "SF_REFLECTIONS_TRACE = go.Scatter(x=SF_REFLECTIONS.index, y=SF_REFLECTIONS['duration'], name='Dremio Reflections')\n",
    "SF_POSTGRES_TRACE = go.Scatter(x=SF_POSTGRES.index, y=SF_POSTGRES['duration'], name='PostgreSQL pgAgent')\n",
    "SF_PANDAS_TRACE = go.Scatter(x=SF_PANDAS.index, y=SF_PANDAS['duration'], name='Pandas')\n",
    "SF_PYTHON_SQL_TRACE = go.Scatter(x=SF_PYTHON_SQL.index, y=SF_PYTHON_SQL['duration'], name='Python and SQL')\n",
    "\n",
    "py.iplot([SF_DREMIO_TRACE\n",
    "          , SF_REFLECTIONS_TRACE\n",
    "          , SF_POSTGRES_TRACE\n",
    "          , SF_PANDAS_TRACE\n",
    "          , SF_PYTHON_SQL_TRACE])\n"
   ]
  },
  {
   "cell_type": "code",
   "execution_count": null,
   "metadata": {},
   "outputs": [],
   "source": [
    "SF_DREMIO_TRACE = go.Scatter(x=SF_DREMIO.index, y=SF_DREMIO['duration'], name='Dremio')\n",
    "SF_REFLECTIONS_TRACE = go.Scatter(x=SF_REFLECTIONS.index, y=SF_REFLECTIONS['duration'], name='Dremio Reflections')\n",
    "SF_POSTGRES_TRACE = go.Scatter(x=SF_POSTGRES.index, y=SF_POSTGRES['duration'], name='PostgreSQL pgAgent')\n",
    "SF_PANDAS_TRACE = go.Scatter(x=SF_PANDAS.index, y=SF_PANDAS['duration'], name='Pandas')\n",
    "SF_PYTHON_SQL_TRACE = go.Scatter(x=SF_PYTHON_SQL.index, y=SF_PYTHON_SQL['duration'], name='Python and SQL')\n",
    "\n",
    "py.iplot([SF_DREMIO_TRACE\n",
    "          , SF_REFLECTIONS_TRACE\n",
    "          , SF_POSTGRES_TRACE\n",
    "          , SF_PYTHON_SQL_TRACE])\n"
   ]
  },
  {
   "cell_type": "code",
   "execution_count": null,
   "metadata": {},
   "outputs": [],
   "source": [
    ""
   ]
  }
 ],
 "metadata": {
  "kernelspec": {
   "display_name": "Python 3",
   "language": "python",
   "name": "python3"
  },
  "language_info": {
   "codemirror_mode": {
    "name": "ipython",
    "version": 3
   },
   "file_extension": ".py",
   "mimetype": "text/x-python",
   "name": "python",
   "nbconvert_exporter": "python",
   "pygments_lexer": "ipython3",
   "version": "3.6.5"
  }
 },
 "nbformat": 4,
 "nbformat_minor": 2
}
